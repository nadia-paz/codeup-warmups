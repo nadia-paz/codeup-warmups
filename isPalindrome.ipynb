{
 "cells": [
  {
   "cell_type": "code",
   "execution_count": 19,
   "id": "3a688e71",
   "metadata": {},
   "outputs": [],
   "source": [
    "string = 'Do geese see God?'"
   ]
  },
  {
   "cell_type": "code",
   "execution_count": 29,
   "id": "dfbfdbbc",
   "metadata": {},
   "outputs": [],
   "source": [
    "string = 'tacocat'"
   ]
  },
  {
   "cell_type": "code",
   "execution_count": 27,
   "id": "bc5f30a9",
   "metadata": {},
   "outputs": [],
   "source": [
    "def palindrome(string: str) -> bool:\n",
    "    '''accepts a string as a parameter and returns if it is a palindrom'''\n",
    "    isPalindrom = False\n",
    "    string=string.lower().replace(' ','').replace('.', '').replace(',','').replace( '-', '').replace('_', '')\\\n",
    "        .replace('?', '').replace('!', '')\n",
    "    for i in range(int(len(string) / 2)):\n",
    "        for j in range(len(string) - 1, int(len(string) / 2), -1):\n",
    "            if string[i] != string[j]:\n",
    "                isPalindrom = False\n",
    "                continue;\n",
    "            else:\n",
    "                isPalindrom = True\n",
    "    return isPalindrom"
   ]
  },
  {
   "cell_type": "code",
   "execution_count": 26,
   "id": "e52a6e69",
   "metadata": {},
   "outputs": [],
   "source": [
    "def palindrome1(string):\n",
    "    return string == string[::-1]"
   ]
  },
  {
   "cell_type": "code",
   "execution_count": 28,
   "id": "1bc29028",
   "metadata": {},
   "outputs": [],
   "source": [
    "def palindrome2(string):\n",
    "    return string == ''.join(reversed(string))"
   ]
  },
  {
   "cell_type": "code",
   "execution_count": 30,
   "id": "41898bc3",
   "metadata": {},
   "outputs": [
    {
     "data": {
      "text/plain": [
       "True"
      ]
     },
     "execution_count": 30,
     "metadata": {},
     "output_type": "execute_result"
    }
   ],
   "source": [
    "palindrome2(string)"
   ]
  },
  {
   "cell_type": "code",
   "execution_count": 31,
   "id": "0696d8b2",
   "metadata": {},
   "outputs": [
    {
     "data": {
      "text/plain": [
       "True"
      ]
     },
     "execution_count": 31,
     "metadata": {},
     "output_type": "execute_result"
    }
   ],
   "source": [
    "palindrome1(string)"
   ]
  },
  {
   "cell_type": "code",
   "execution_count": 32,
   "id": "6c408d43",
   "metadata": {},
   "outputs": [
    {
     "data": {
      "text/plain": [
       "True"
      ]
     },
     "execution_count": 32,
     "metadata": {},
     "output_type": "execute_result"
    }
   ],
   "source": [
    "palindrome(string)"
   ]
  },
  {
   "cell_type": "code",
   "execution_count": null,
   "id": "e1e852ab",
   "metadata": {},
   "outputs": [],
   "source": []
  }
 ],
 "metadata": {
  "kernelspec": {
   "display_name": "Python 3 (ipykernel)",
   "language": "python",
   "name": "python3"
  },
  "language_info": {
   "codemirror_mode": {
    "name": "ipython",
    "version": 3
   },
   "file_extension": ".py",
   "mimetype": "text/x-python",
   "name": "python",
   "nbconvert_exporter": "python",
   "pygments_lexer": "ipython3",
   "version": "3.9.12"
  }
 },
 "nbformat": 4,
 "nbformat_minor": 5
}
